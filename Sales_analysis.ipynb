{
 "cells": [
  {
   "cell_type": "code",
   "execution_count": 105,
   "id": "395f59c4-e678-40c5-9918-433a9c232308",
   "metadata": {},
   "outputs": [],
   "source": [
    "import pandas as pd\n",
    "import psycopg2\n",
    "from tqdm import tqdm\n",
    "import os\n",
    "\n",
    "# Visualization library\n",
    "import matplotlib.pyplot as plt\n",
    "import seaborn as sns"
   ]
  },
  {
   "cell_type": "markdown",
   "id": "4b18f103-6f02-4480-9f37-c4c96d62df40",
   "metadata": {},
   "source": [
    "## Export data from Database"
   ]
  },
  {
   "cell_type": "code",
   "execution_count": 29,
   "id": "a28b1372-edd5-4873-888f-6ca3049509ec",
   "metadata": {
    "tags": []
   },
   "outputs": [
    {
     "name": "stdout",
     "output_type": "stream",
     "text": [
      "All data was successfully transfered!\n"
     ]
    }
   ],
   "source": [
    "# Credentials\n",
    "database=\"sales_data_2019\"\n",
    "user='postgres'\n",
    "password='xxxxx'\n",
    "host='xxxxx'\n",
    "port= 'xxxxx'\n",
    "\n",
    "# Connect to database\n",
    "conn = psycopg2.connect(\n",
    "    database=\"sales_data_2019\",\n",
    "    user='postgres',\n",
    "    password='chan.chano123099',\n",
    "    host='127.0.0.1',\n",
    "    port= '5000'\n",
    ")\n",
    "cur = conn.cursor()\n",
    "\n",
    "# get all the table names from db\n",
    "query = \"\"\"\n",
    "    select table_name from information_schema.tables where table_schema='public'\n",
    "\"\"\"\n",
    "\n",
    "cur.execute(query)\n",
    "files = [file[0] for file in cur.fetchall()]\n",
    "\n",
    "\n",
    "#export table from db to a folder\n",
    "for my_file in files:\n",
    "    sql_statement = f\"\"\"COPY {my_file} TO STDOUT WITH CSV HEADER\"\"\"\n",
    "    with open(f'./from_db/{my_file}.csv', 'wb') as file_name:\n",
    "        cur.copy_expert(sql=sql_statement, file=file_name)\n",
    "\n",
    "print(\"All data was successfully transfered!\")\n",
    "\n",
    "cur.close()\n",
    "conn.close()"
   ]
  },
  {
   "cell_type": "markdown",
   "id": "934ae943-6439-4fbf-a85f-3debe86ead51",
   "metadata": {},
   "source": [
    "## Add all tables into 1 Data Frame"
   ]
  },
  {
   "cell_type": "code",
   "execution_count": 2,
   "id": "52fdf251-a5a6-4a34-a2f8-f8b8b30962c4",
   "metadata": {},
   "outputs": [
    {
     "name": "stderr",
     "output_type": "stream",
     "text": [
      "100%|██████████████████████████████████████████████████████████████████████████████████| 13/13 [00:00<00:00, 20.97it/s]\n"
     ]
    }
   ],
   "source": [
    "files = [file for file in os.listdir('./from_db')]\n",
    "\n",
    "df = pd.DataFrame()\n",
    "\n",
    "for file in tqdm(files, total=len(files)):\n",
    "    if file.endswith('.csv'):\n",
    "        data = pd.read_csv('./from_db/'+file)\n",
    "        df = pd.concat([df, data], ignore_index=True)"
   ]
  },
  {
   "cell_type": "code",
   "execution_count": 4,
   "id": "2d0c8f4c-f3ab-4173-aedb-217375b7cb35",
   "metadata": {},
   "outputs": [
    {
     "data": {
      "text/html": [
       "<div>\n",
       "<style scoped>\n",
       "    .dataframe tbody tr th:only-of-type {\n",
       "        vertical-align: middle;\n",
       "    }\n",
       "\n",
       "    .dataframe tbody tr th {\n",
       "        vertical-align: top;\n",
       "    }\n",
       "\n",
       "    .dataframe thead th {\n",
       "        text-align: right;\n",
       "    }\n",
       "</style>\n",
       "<table border=\"1\" class=\"dataframe\">\n",
       "  <thead>\n",
       "    <tr style=\"text-align: right;\">\n",
       "      <th></th>\n",
       "      <th>order_id</th>\n",
       "      <th>product</th>\n",
       "      <th>quantity_ordered</th>\n",
       "      <th>price_each</th>\n",
       "      <th>order_date</th>\n",
       "      <th>purchase_address</th>\n",
       "    </tr>\n",
       "  </thead>\n",
       "  <tbody>\n",
       "    <tr>\n",
       "      <th>0</th>\n",
       "      <td>176558</td>\n",
       "      <td>USB-C Charging Cable</td>\n",
       "      <td>2</td>\n",
       "      <td>11.95</td>\n",
       "      <td>2019-04-19 08:46:00</td>\n",
       "      <td>917 1st St, Dallas, TX 75001</td>\n",
       "    </tr>\n",
       "    <tr>\n",
       "      <th>1</th>\n",
       "      <td>176559</td>\n",
       "      <td>Bose SoundSport Headphones</td>\n",
       "      <td>1</td>\n",
       "      <td>99.99</td>\n",
       "      <td>2019-04-07 22:30:00</td>\n",
       "      <td>682 Chestnut St, Boston, MA 02215</td>\n",
       "    </tr>\n",
       "    <tr>\n",
       "      <th>2</th>\n",
       "      <td>176560</td>\n",
       "      <td>Google Phone</td>\n",
       "      <td>1</td>\n",
       "      <td>600.00</td>\n",
       "      <td>2019-04-12 14:38:00</td>\n",
       "      <td>669 Spruce St, Los Angeles, CA 90001</td>\n",
       "    </tr>\n",
       "    <tr>\n",
       "      <th>3</th>\n",
       "      <td>176560</td>\n",
       "      <td>Wired Headphones</td>\n",
       "      <td>1</td>\n",
       "      <td>11.99</td>\n",
       "      <td>2019-04-12 14:38:00</td>\n",
       "      <td>669 Spruce St, Los Angeles, CA 90001</td>\n",
       "    </tr>\n",
       "    <tr>\n",
       "      <th>4</th>\n",
       "      <td>176561</td>\n",
       "      <td>Wired Headphones</td>\n",
       "      <td>1</td>\n",
       "      <td>11.99</td>\n",
       "      <td>2019-04-30 09:27:00</td>\n",
       "      <td>333 8th St, Los Angeles, CA 90001</td>\n",
       "    </tr>\n",
       "    <tr>\n",
       "      <th>...</th>\n",
       "      <td>...</td>\n",
       "      <td>...</td>\n",
       "      <td>...</td>\n",
       "      <td>...</td>\n",
       "      <td>...</td>\n",
       "      <td>...</td>\n",
       "    </tr>\n",
       "    <tr>\n",
       "      <th>185681</th>\n",
       "      <td>259353</td>\n",
       "      <td>AAA Batteries (4-pack)</td>\n",
       "      <td>3</td>\n",
       "      <td>2.99</td>\n",
       "      <td>2019-09-17 20:56:00</td>\n",
       "      <td>840 Highland St, Los Angeles, CA 90001</td>\n",
       "    </tr>\n",
       "    <tr>\n",
       "      <th>185682</th>\n",
       "      <td>259354</td>\n",
       "      <td>iPhone</td>\n",
       "      <td>1</td>\n",
       "      <td>700.00</td>\n",
       "      <td>2019-09-01 16:00:00</td>\n",
       "      <td>216 Dogwood St, San Francisco, CA 94016</td>\n",
       "    </tr>\n",
       "    <tr>\n",
       "      <th>185683</th>\n",
       "      <td>259355</td>\n",
       "      <td>iPhone</td>\n",
       "      <td>1</td>\n",
       "      <td>700.00</td>\n",
       "      <td>2019-09-23 07:39:00</td>\n",
       "      <td>220 12th St, San Francisco, CA 94016</td>\n",
       "    </tr>\n",
       "    <tr>\n",
       "      <th>185684</th>\n",
       "      <td>259356</td>\n",
       "      <td>34in Ultrawide Monitor</td>\n",
       "      <td>1</td>\n",
       "      <td>379.99</td>\n",
       "      <td>2019-09-19 17:30:00</td>\n",
       "      <td>511 Forest St, San Francisco, CA 94016</td>\n",
       "    </tr>\n",
       "    <tr>\n",
       "      <th>185685</th>\n",
       "      <td>259357</td>\n",
       "      <td>USB-C Charging Cable</td>\n",
       "      <td>1</td>\n",
       "      <td>11.95</td>\n",
       "      <td>2019-09-30 00:18:00</td>\n",
       "      <td>250 Meadow St, San Francisco, CA 94016</td>\n",
       "    </tr>\n",
       "  </tbody>\n",
       "</table>\n",
       "<p>185686 rows × 6 columns</p>\n",
       "</div>"
      ],
      "text/plain": [
       "        order_id                     product  quantity_ordered  price_each   \n",
       "0         176558        USB-C Charging Cable                 2       11.95  \\\n",
       "1         176559  Bose SoundSport Headphones                 1       99.99   \n",
       "2         176560                Google Phone                 1      600.00   \n",
       "3         176560            Wired Headphones                 1       11.99   \n",
       "4         176561            Wired Headphones                 1       11.99   \n",
       "...          ...                         ...               ...         ...   \n",
       "185681    259353      AAA Batteries (4-pack)                 3        2.99   \n",
       "185682    259354                      iPhone                 1      700.00   \n",
       "185683    259355                      iPhone                 1      700.00   \n",
       "185684    259356      34in Ultrawide Monitor                 1      379.99   \n",
       "185685    259357        USB-C Charging Cable                 1       11.95   \n",
       "\n",
       "                 order_date                         purchase_address  \n",
       "0       2019-04-19 08:46:00             917 1st St, Dallas, TX 75001  \n",
       "1       2019-04-07 22:30:00        682 Chestnut St, Boston, MA 02215  \n",
       "2       2019-04-12 14:38:00     669 Spruce St, Los Angeles, CA 90001  \n",
       "3       2019-04-12 14:38:00     669 Spruce St, Los Angeles, CA 90001  \n",
       "4       2019-04-30 09:27:00        333 8th St, Los Angeles, CA 90001  \n",
       "...                     ...                                      ...  \n",
       "185681  2019-09-17 20:56:00   840 Highland St, Los Angeles, CA 90001  \n",
       "185682  2019-09-01 16:00:00  216 Dogwood St, San Francisco, CA 94016  \n",
       "185683  2019-09-23 07:39:00     220 12th St, San Francisco, CA 94016  \n",
       "185684  2019-09-19 17:30:00   511 Forest St, San Francisco, CA 94016  \n",
       "185685  2019-09-30 00:18:00   250 Meadow St, San Francisco, CA 94016  \n",
       "\n",
       "[185686 rows x 6 columns]"
      ]
     },
     "execution_count": 4,
     "metadata": {},
     "output_type": "execute_result"
    }
   ],
   "source": [
    "df"
   ]
  },
  {
   "cell_type": "code",
   "execution_count": 45,
   "id": "d70ba3ef-0122-4ffe-afbd-0395ce8c9fe9",
   "metadata": {},
   "outputs": [
    {
     "name": "stdout",
     "output_type": "stream",
     "text": [
      "<class 'pandas.core.frame.DataFrame'>\n",
      "RangeIndex: 185686 entries, 0 to 185685\n",
      "Data columns (total 6 columns):\n",
      " #   Column            Non-Null Count   Dtype  \n",
      "---  ------            --------------   -----  \n",
      " 0   order_id          185686 non-null  int64  \n",
      " 1   product           185686 non-null  object \n",
      " 2   quantity_ordered  185686 non-null  int64  \n",
      " 3   price_each        185686 non-null  float64\n",
      " 4   order_date        185686 non-null  object \n",
      " 5   purchase_address  185686 non-null  object \n",
      "dtypes: float64(1), int64(2), object(3)\n",
      "memory usage: 8.5+ MB\n",
      "Info:  None\n",
      "|---------------------------------------|\n",
      "Data types:\n",
      " order_id              int64\n",
      "product              object\n",
      "quantity_ordered      int64\n",
      "price_each          float64\n",
      "order_date           object\n",
      "purchase_address     object\n",
      "dtype: object\n",
      "|---------------------------------------|\n",
      "Null counts:\n",
      " order_id            0\n",
      "product             0\n",
      "quantity_ordered    0\n",
      "price_each          0\n",
      "order_date          0\n",
      "purchase_address    0\n",
      "dtype: int64\n",
      "|---------------------------------------|\n",
      "Duplicated values:  0\n"
     ]
    }
   ],
   "source": [
    "print(\"Info: \", df.info())\n",
    "print(\"|---------------------------------------|\")\n",
    "print(\"Data types:\\n\",df.dtypes)\n",
    "print(\"|---------------------------------------|\")\n",
    "print(\"Null counts:\\n\",df.isna().sum())\n",
    "print(\"|---------------------------------------|\")\n",
    "print(\"Duplicated values: \",df.duplicated().sum())"
   ]
  },
  {
   "cell_type": "markdown",
   "id": "85e2d154-6815-430a-8cac-81e09bb8e0b6",
   "metadata": {},
   "source": [
    "## EDA\n",
    "\n",
    "#### Data Inspection\n",
    "- Our data sets are composed by 2 numerical data types 1 datetime, then objects. \n",
    "- Since this data is processed before importing to database resulting in no null and duplicate values\n",
    "\n",
    "#### Summary statistics:\n",
    "- I will analyze the total sales and revenue for each month\n",
    "- I will need to create 2 columns:"
   ]
  },
  {
   "cell_type": "code",
   "execution_count": 3,
   "id": "28fab1ce-221c-4a7e-af74-8fed858b0838",
   "metadata": {},
   "outputs": [],
   "source": [
    "# Sales column\n",
    "df['sales'] = df['quantity_ordered']*df['price_each']\n",
    "\n",
    "# Month and Year columns\n",
    "df['order_date'] = pd.to_datetime(df['order_date'])\n",
    "\n",
    "df['month'] = df['order_date'].dt.month_name()\n",
    "df['year'] = df['order_date'].dt.year"
   ]
  },
  {
   "cell_type": "code",
   "execution_count": 76,
   "id": "845d4c12-1f76-473c-9c47-010e5552e54a",
   "metadata": {},
   "outputs": [
    {
     "data": {
      "image/png": "[encoded data removed]",
      "text/plain": [
       "<Figure size 720x432 with 1 Axes>"
      ]
     },
     "metadata": {
      "needs_background": "light"
     },
     "output_type": "display_data"
    }
   ],
   "source": [
    "# Group by month and calculate the total sales for each month\n",
    "monthly_total_sale = pd.DataFrame(df.groupby(['month'])['sales'].sum().sort_values().reset_index(name='sales'))\n",
    "\n",
    "plt.figure(figsize=(10, 6))\n",
    "plt.bar(monthly_total_sale['month'], monthly_total_sale['sales'])\n",
    "plt.xlabel('Month')\n",
    "plt.ylabel('Total Sales')\n",
    "plt.title('Distribution of Monthly Total Sales')\n",
    "plt.xticks(rotation=45)\n",
    "plt.tight_layout()"
   ]
  },
  {
   "cell_type": "markdown",
   "id": "676e4534-cdd6-4e30-8aa1-c936b1ce10af",
   "metadata": {},
   "source": [
    "### December has the highest sales, probably because of the christmas season"
   ]
  },
  {
   "cell_type": "code",
   "execution_count": 64,
   "id": "13d898a4-eb70-4d58-bdb0-0cabf16579e2",
   "metadata": {},
   "outputs": [
    {
     "data": {
      "text/html": [
       "<div>\n",
       "<style scoped>\n",
       "    .dataframe tbody tr th:only-of-type {\n",
       "        vertical-align: middle;\n",
       "    }\n",
       "\n",
       "    .dataframe tbody tr th {\n",
       "        vertical-align: top;\n",
       "    }\n",
       "\n",
       "    .dataframe thead th {\n",
       "        text-align: right;\n",
       "    }\n",
       "</style>\n",
       "<table border=\"1\" class=\"dataframe\">\n",
       "  <thead>\n",
       "    <tr style=\"text-align: right;\">\n",
       "      <th></th>\n",
       "      <th>order_id</th>\n",
       "      <th>quantity_ordered</th>\n",
       "      <th>price_each</th>\n",
       "      <th>order_date</th>\n",
       "      <th>sales</th>\n",
       "    </tr>\n",
       "  </thead>\n",
       "  <tbody>\n",
       "    <tr>\n",
       "      <th>count</th>\n",
       "      <td>185686.000000</td>\n",
       "      <td>185686.000000</td>\n",
       "      <td>185686.000000</td>\n",
       "      <td>185686</td>\n",
       "      <td>185686.000000</td>\n",
       "    </tr>\n",
       "    <tr>\n",
       "      <th>mean</th>\n",
       "      <td>230411.376227</td>\n",
       "      <td>1.124544</td>\n",
       "      <td>184.519255</td>\n",
       "      <td>2019-07-18 21:32:06.298051840</td>\n",
       "      <td>185.611936</td>\n",
       "    </tr>\n",
       "    <tr>\n",
       "      <th>min</th>\n",
       "      <td>141234.000000</td>\n",
       "      <td>1.000000</td>\n",
       "      <td>2.990000</td>\n",
       "      <td>2019-01-01 03:07:00</td>\n",
       "      <td>2.990000</td>\n",
       "    </tr>\n",
       "    <tr>\n",
       "      <th>25%</th>\n",
       "      <td>185833.250000</td>\n",
       "      <td>1.000000</td>\n",
       "      <td>11.950000</td>\n",
       "      <td>2019-04-16 20:55:15</td>\n",
       "      <td>11.950000</td>\n",
       "    </tr>\n",
       "    <tr>\n",
       "      <th>50%</th>\n",
       "      <td>230354.500000</td>\n",
       "      <td>1.000000</td>\n",
       "      <td>14.950000</td>\n",
       "      <td>2019-07-17 20:11:00</td>\n",
       "      <td>14.950000</td>\n",
       "    </tr>\n",
       "    <tr>\n",
       "      <th>75%</th>\n",
       "      <td>275028.750000</td>\n",
       "      <td>1.000000</td>\n",
       "      <td>150.000000</td>\n",
       "      <td>2019-10-26 08:00:00</td>\n",
       "      <td>150.000000</td>\n",
       "    </tr>\n",
       "    <tr>\n",
       "      <th>max</th>\n",
       "      <td>319670.000000</td>\n",
       "      <td>9.000000</td>\n",
       "      <td>1700.000000</td>\n",
       "      <td>2020-01-01 05:13:00</td>\n",
       "      <td>3400.000000</td>\n",
       "    </tr>\n",
       "    <tr>\n",
       "      <th>std</th>\n",
       "      <td>51511.717183</td>\n",
       "      <td>0.443069</td>\n",
       "      <td>332.843838</td>\n",
       "      <td>NaN</td>\n",
       "      <td>333.032118</td>\n",
       "    </tr>\n",
       "  </tbody>\n",
       "</table>\n",
       "</div>"
      ],
      "text/plain": [
       "            order_id  quantity_ordered     price_each   \n",
       "count  185686.000000     185686.000000  185686.000000  \\\n",
       "mean   230411.376227          1.124544     184.519255   \n",
       "min    141234.000000          1.000000       2.990000   \n",
       "25%    185833.250000          1.000000      11.950000   \n",
       "50%    230354.500000          1.000000      14.950000   \n",
       "75%    275028.750000          1.000000     150.000000   \n",
       "max    319670.000000          9.000000    1700.000000   \n",
       "std     51511.717183          0.443069     332.843838   \n",
       "\n",
       "                          order_date          sales  \n",
       "count                         185686  185686.000000  \n",
       "mean   2019-07-18 21:32:06.298051840     185.611936  \n",
       "min              2019-01-01 03:07:00       2.990000  \n",
       "25%              2019-04-16 20:55:15      11.950000  \n",
       "50%              2019-07-17 20:11:00      14.950000  \n",
       "75%              2019-10-26 08:00:00     150.000000  \n",
       "max              2020-01-01 05:13:00    3400.000000  \n",
       "std                              NaN     333.032118  "
      ]
     },
     "execution_count": 64,
     "metadata": {},
     "output_type": "execute_result"
    }
   ],
   "source": [
    "df.describe()"
   ]
  },
  {
   "cell_type": "markdown",
   "id": "5c27d7c0-7cf1-4338-9231-3454078effb8",
   "metadata": {},
   "source": [
    "- we will only anlayse the 2019 data sales."
   ]
  },
  {
   "cell_type": "code",
   "execution_count": 7,
   "id": "6f3bc3e3-749c-4048-baaa-5afc9666bd37",
   "metadata": {},
   "outputs": [],
   "source": [
    "data = df[df['year'] != '2020']"
   ]
  },
  {
   "cell_type": "markdown",
   "id": "fbfcfe49-03e3-44fa-ae30-797a1d64c116",
   "metadata": {},
   "source": [
    "# Descriptive analysis"
   ]
  },
  {
   "cell_type": "markdown",
   "id": "ecef2d98-c06b-46c1-acb1-8b55446cd1f7",
   "metadata": {},
   "source": [
    "### Identifying outliers"
   ]
  },
  {
   "cell_type": "code",
   "execution_count": 50,
   "id": "70e07ac9-ebc4-447d-a1f2-35c7192f2d02",
   "metadata": {},
   "outputs": [
    {
     "data": {
      "image/png": "[encoded data removed]",
      "text/plain": [
       "<Figure size 1080x432 with 3 Axes>"
      ]
     },
     "metadata": {
      "needs_background": "light"
     },
     "output_type": "display_data"
    }
   ],
   "source": [
    "numeric_col = ['quantity_ordered', 'price_each', 'sales']\n",
    "fig, axes = plt.subplots(nrows=1, ncols=3, figsize=(15,6))\n",
    "axes = axes.flatten()\n",
    "\n",
    "for i,col in enumerate(numeric_col):\n",
    "    sns.boxplot(data=data, x=col, ax=axes[i])\n",
    "\n",
    "fig.tight_layout()\n",
    "plt.show()"
   ]
  },
  {
   "cell_type": "markdown",
   "id": "bf0ad430-9420-41de-bb7b-dfdcb56d8022",
   "metadata": {},
   "source": [
    "#### Using z-scores\n",
    "\n",
    "- We can define the values that are a couple of z-scores above or below the mean (or the max/min value).\n",
    "- A z-score greater than a certain threshold (e.g., 2 or 3) could indicate an outlier."
   ]
  },
  {
   "cell_type": "code",
   "execution_count": 62,
   "id": "14848d93-8d82-4917-91c8-ae6a1a305c9b",
   "metadata": {},
   "outputs": [
    {
     "data": {
      "text/plain": [
       "332.8438383900525"
      ]
     },
     "execution_count": 62,
     "metadata": {},
     "output_type": "execute_result"
    }
   ],
   "source": [
    "df['price_each'].std()"
   ]
  },
  {
   "cell_type": "code",
   "execution_count": 64,
   "id": "16984677-fdfe-473d-a5ab-503a70c19b94",
   "metadata": {},
   "outputs": [
    {
     "name": "stdout",
     "output_type": "stream",
     "text": [
      "Upper Limit: 850.2069322436295\n",
      "Lower Limit: -481.1684213165805\n"
     ]
    }
   ],
   "source": [
    "# For price each column\n",
    "\n",
    "upper_limit = df['price_each'].mean() + 2 * df['price_each'].std()\n",
    "lower_limit = df['price_each'].mean() - 2 * df['price_each'].std()\n",
    "\n",
    "print(\"Upper Limit: {}\".format(upper_limit))\n",
    "print(\"Lower Limit: {}\".format(lower_limit))"
   ]
  },
  {
   "cell_type": "code",
   "execution_count": 61,
   "id": "7eb393b5-c7c2-4b5e-a1c6-ad764e124b35",
   "metadata": {},
   "outputs": [
    {
     "name": "stderr",
     "output_type": "stream",
     "text": [
      "C:\\Users\\chano\\AppData\\Local\\Temp\\ipykernel_6648\\1078977953.py:2: UserWarning: \n",
      "\n",
      "`distplot` is a deprecated function and will be removed in seaborn v0.14.0.\n",
      "\n",
      "Please adapt your code to use either `displot` (a figure-level function with\n",
      "similar flexibility) or `histplot` (an axes-level function for histograms).\n",
      "\n",
      "For a guide to updating your code to use the new functions, please see\n",
      "https://gist.github.com/mwaskom/de44147ed2974457ad6372750bbe5751\n",
      "\n",
      "  sns.distplot(df['price_each'], ax=ax)\n"
     ]
    },
    {
     "data": {
      "text/plain": [
       "<matplotlib.lines.Line2D at 0x1a95e3a4970>"
      ]
     },
     "execution_count": 61,
     "metadata": {},
     "output_type": "execute_result"
    },
    {
     "data": {
      "image/png": "[encoded data removed]",
      "text/plain": [
       "<Figure size 1080x504 with 1 Axes>"
      ]
     },
     "metadata": {
      "needs_background": "light"
     },
     "output_type": "display_data"
    }
   ],
   "source": [
    "fig, ax = plt.subplots(figsize=(15, 7))\n",
    "sns.distplot(df['price_each'], ax=ax)\n",
    "ax.axvline(lower_limit, color='red')\n",
    "ax.axvline(upper_limit, color='red')"
   ]
  },
  {
   "cell_type": "code",
   "execution_count": 56,
   "id": "9c2d9504-9739-42da-b831-32a6b1bcf815",
   "metadata": {},
   "outputs": [
    {
     "data": {
      "text/plain": [
       "185.6119359563995"
      ]
     },
     "execution_count": 56,
     "metadata": {},
     "output_type": "execute_result"
    }
   ],
   "source": [
    "df['sales'].mean()"
   ]
  },
  {
   "cell_type": "code",
   "execution_count": 65,
   "id": "cac1b897-96b3-4c33-bad4-9fd880362cb1",
   "metadata": {},
   "outputs": [
    {
     "name": "stdout",
     "output_type": "stream",
     "text": [
      "Upper Limit: 851.6761718623969\n",
      "Lower Limit: -480.4522999495979\n"
     ]
    }
   ],
   "source": [
    "# For sales column\n",
    "\n",
    "upper_limit_sales = data['sales'].mean() + 2 * data['sales'].std()\n",
    "lower_limit_sales = data['sales'].mean() - 2 * data['sales'].std()\n",
    "\n",
    "print(\"Upper Limit: {}\".format(upper_limit_sales))\n",
    "print(\"Lower Limit: {}\".format(lower_limit_sales))"
   ]
  },
  {
   "cell_type": "code",
   "execution_count": 60,
   "id": "775404b4-5dcf-4aca-93dd-f1b2d84323f7",
   "metadata": {},
   "outputs": [
    {
     "name": "stderr",
     "output_type": "stream",
     "text": [
      "C:\\Users\\chano\\AppData\\Local\\Temp\\ipykernel_6648\\3886735041.py:2: UserWarning: \n",
      "\n",
      "`distplot` is a deprecated function and will be removed in seaborn v0.14.0.\n",
      "\n",
      "Please adapt your code to use either `displot` (a figure-level function with\n",
      "similar flexibility) or `histplot` (an axes-level function for histograms).\n",
      "\n",
      "For a guide to updating your code to use the new functions, please see\n",
      "https://gist.github.com/mwaskom/de44147ed2974457ad6372750bbe5751\n",
      "\n",
      "  sns.distplot(data['sales'], ax=ax)\n"
     ]
    },
    {
     "data": {
      "text/plain": [
       "<matplotlib.lines.Line2D at 0x1a953e3c220>"
      ]
     },
     "execution_count": 60,
     "metadata": {},
     "output_type": "execute_result"
    },
    {
     "data": {
      "image/png": "[encoded data removed]",
      "text/plain": [
       "<Figure size 1080x504 with 1 Axes>"
      ]
     },
     "metadata": {
      "needs_background": "light"
     },
     "output_type": "display_data"
    }
   ],
   "source": [
    "fig, ax = plt.subplots(figsize=(15, 7))\n",
    "sns.distplot(data['sales'], ax=ax)\n",
    "ax.axvline(lower_limit_sales, color='red')\n",
    "ax.axvline(upper_limit_sales, color='red')"
   ]
  },
  {
   "cell_type": "markdown",
   "id": "e5ae6a9e-11bd-4a88-a9d7-ed411d66be8b",
   "metadata": {},
   "source": [
    "### IQR"
   ]
  },
  {
   "cell_type": "code",
   "execution_count": 8,
   "id": "dadc493a-70ab-4f45-b758-8d307726ec67",
   "metadata": {},
   "outputs": [],
   "source": [
    "iqr = data['sales'].quantile(.75) - data['sales'].quantile(.25)"
   ]
  },
  {
   "cell_type": "code",
   "execution_count": 101,
   "id": "7c11f93c-eff7-4dd5-a587-d6d4a383c05d",
   "metadata": {},
   "outputs": [
    {
     "name": "stdout",
     "output_type": "stream",
     "text": [
      "Upper Limit: 392.6869359563995\n",
      "Lower Limit: -21.463064043600525\n"
     ]
    }
   ],
   "source": [
    "upper_limit = df['sales'].mean() + 1.5 * iqr\n",
    "lower_limit = df['sales'].mean() - 1.5 * iqr\n",
    "\n",
    "print(\"Upper Limit: {}\".format(upper_limit))\n",
    "print(\"Lower Limit: {}\".format(lower_limit))"
   ]
  },
  {
   "cell_type": "code",
   "execution_count": 102,
   "id": "3d32782a-1bc1-4048-a7be-bd46f2b789b4",
   "metadata": {},
   "outputs": [
    {
     "name": "stderr",
     "output_type": "stream",
     "text": [
      "C:\\Users\\chano\\AppData\\Local\\Temp\\ipykernel_9912\\484930125.py:2: UserWarning: \n",
      "\n",
      "`distplot` is a deprecated function and will be removed in seaborn v0.14.0.\n",
      "\n",
      "Please adapt your code to use either `displot` (a figure-level function with\n",
      "similar flexibility) or `histplot` (an axes-level function for histograms).\n",
      "\n",
      "For a guide to updating your code to use the new functions, please see\n",
      "https://gist.github.com/mwaskom/de44147ed2974457ad6372750bbe5751\n",
      "\n",
      "  sns.distplot(data['sales'], ax=ax)\n"
     ]
    },
    {
     "data": {
      "text/plain": [
       "<matplotlib.lines.Line2D at 0x1f9b4d89af0>"
      ]
     },
     "execution_count": 102,
     "metadata": {},
     "output_type": "execute_result"
    },
    {
     "data": {
      "image/png": "[encoded data removed]",
      "text/plain": [
       "<Figure size 1080x504 with 1 Axes>"
      ]
     },
     "metadata": {
      "needs_background": "light"
     },
     "output_type": "display_data"
    }
   ],
   "source": [
    "fig, ax = plt.subplots(figsize=(15, 7))\n",
    "sns.distplot(data['sales'], ax=ax)\n",
    "ax.axvline(lower_limit, color='red')\n",
    "ax.axvline(upper_limit, color='red')"
   ]
  },
  {
   "cell_type": "code",
   "execution_count": 103,
   "id": "4734925f-7e33-458d-ac05-9c55a228d915",
   "metadata": {},
   "outputs": [
    {
     "name": "stdout",
     "output_type": "stream",
     "text": [
      "Upper Limit: 391.59425546352446\n",
      "Lower Limit: -22.555744536475572\n"
     ]
    }
   ],
   "source": [
    "upper_limit = data['price_each'].mean() + 1.5 * iqr\n",
    "lower_limit = data['price_each'].mean() - 1.5 * iqr\n",
    "\n",
    "print(\"Upper Limit: {}\".format(upper_limit))\n",
    "print(\"Lower Limit: {}\".format(lower_limit))"
   ]
  },
  {
   "cell_type": "code",
   "execution_count": 104,
   "id": "c9290f0e-a003-4109-bdbb-85f5d96608c7",
   "metadata": {},
   "outputs": [
    {
     "name": "stderr",
     "output_type": "stream",
     "text": [
      "C:\\Users\\chano\\AppData\\Local\\Temp\\ipykernel_9912\\2340081323.py:2: UserWarning: \n",
      "\n",
      "`distplot` is a deprecated function and will be removed in seaborn v0.14.0.\n",
      "\n",
      "Please adapt your code to use either `displot` (a figure-level function with\n",
      "similar flexibility) or `histplot` (an axes-level function for histograms).\n",
      "\n",
      "For a guide to updating your code to use the new functions, please see\n",
      "https://gist.github.com/mwaskom/de44147ed2974457ad6372750bbe5751\n",
      "\n",
      "  sns.distplot(data['price_each'], ax=ax)\n"
     ]
    },
    {
     "data": {
      "text/plain": [
       "<matplotlib.lines.Line2D at 0x1f9b1677df0>"
      ]
     },
     "execution_count": 104,
     "metadata": {},
     "output_type": "execute_result"
    },
    {
     "data": {
      "image/png": "[encoded data removed]",
      "text/plain": [
       "<Figure size 1080x504 with 1 Axes>"
      ]
     },
     "metadata": {
      "needs_background": "light"
     },
     "output_type": "display_data"
    }
   ],
   "source": [
    "fig, ax = plt.subplots(figsize=(15, 7))\n",
    "sns.distplot(data['price_each'], ax=ax)\n",
    "ax.axvline(lower_limit, color='red')\n",
    "ax.axvline(upper_limit, color='red')"
   ]
  },
  {
   "cell_type": "code",
   "execution_count": 74,
   "id": "00cf3798-0bd0-498b-b79e-4867b012fa07",
   "metadata": {},
   "outputs": [
    {
     "data": {
      "text/plain": [
       "<AxesSubplot:xlabel='sales', ylabel='price_each'>"
      ]
     },
     "execution_count": 74,
     "metadata": {},
     "output_type": "execute_result"
    },
    {
     "data": {
      "image/png": "[encoded data removed]",
      "text/plain": [
       "<Figure size 1080x504 with 1 Axes>"
      ]
     },
     "metadata": {
      "needs_background": "light"
     },
     "output_type": "display_data"
    }
   ],
   "source": [
    "fig, ax = plt.subplots(figsize=(15,7))\n",
    "sns.regplot(x='sales', y='price_each', data= df, ax=ax)"
   ]
  },
  {
   "cell_type": "markdown",
   "id": "74fce562-fad0-4d20-84dc-0f5851fcb0fc",
   "metadata": {
    "tags": []
   },
   "source": [
    "#### Insights:\n",
    "- Figure above says the more accurate upper and lower limit is the IQR\n",
    "- We will need to investigate what are these data that are being distibuted and the data above the upper limit.\n",
    "- I will assume that it will make more sense if we investigate the product columns and the customer address"
   ]
  },
  {
   "cell_type": "code",
   "execution_count": 99,
   "id": "52baac7a-33f4-419d-9937-aeee78bcce6c",
   "metadata": {},
   "outputs": [
    {
     "data": {
      "text/html": [
       "<div>\n",
       "<style scoped>\n",
       "    .dataframe tbody tr th:only-of-type {\n",
       "        vertical-align: middle;\n",
       "    }\n",
       "\n",
       "    .dataframe tbody tr th {\n",
       "        vertical-align: top;\n",
       "    }\n",
       "\n",
       "    .dataframe thead th {\n",
       "        text-align: right;\n",
       "    }\n",
       "</style>\n",
       "<table border=\"1\" class=\"dataframe\">\n",
       "  <thead>\n",
       "    <tr style=\"text-align: right;\">\n",
       "      <th></th>\n",
       "      <th>product</th>\n",
       "      <th>quantity_ordered</th>\n",
       "    </tr>\n",
       "  </thead>\n",
       "  <tbody>\n",
       "    <tr>\n",
       "      <th>0</th>\n",
       "      <td>iPhone</td>\n",
       "      <td>6847</td>\n",
       "    </tr>\n",
       "    <tr>\n",
       "      <th>1</th>\n",
       "      <td>Google Phone</td>\n",
       "      <td>5529</td>\n",
       "    </tr>\n",
       "    <tr>\n",
       "      <th>2</th>\n",
       "      <td>Macbook Pro Laptop</td>\n",
       "      <td>4725</td>\n",
       "    </tr>\n",
       "    <tr>\n",
       "      <th>3</th>\n",
       "      <td>ThinkPad Laptop</td>\n",
       "      <td>4128</td>\n",
       "    </tr>\n",
       "    <tr>\n",
       "      <th>4</th>\n",
       "      <td>LG Washing Machine</td>\n",
       "      <td>666</td>\n",
       "    </tr>\n",
       "    <tr>\n",
       "      <th>5</th>\n",
       "      <td>LG Dryer</td>\n",
       "      <td>646</td>\n",
       "    </tr>\n",
       "  </tbody>\n",
       "</table>\n",
       "</div>"
      ],
      "text/plain": [
       "              product  quantity_ordered\n",
       "0              iPhone              6847\n",
       "1        Google Phone              5529\n",
       "2  Macbook Pro Laptop              4725\n",
       "3     ThinkPad Laptop              4128\n",
       "4  LG Washing Machine               666\n",
       "5            LG Dryer               646"
      ]
     },
     "execution_count": 99,
     "metadata": {},
     "output_type": "execute_result"
    }
   ],
   "source": [
    "data_outside = data[data['price_each']>upper_limit]\n",
    "product = data_outside.groupby(['product'])['quantity_ordered'].sum().sort_values(ascending=False).reset_index()\n",
    "product"
   ]
  },
  {
   "cell_type": "code",
   "execution_count": 71,
   "id": "7c192faf-5f22-47e0-a85c-3141ac95b49d",
   "metadata": {},
   "outputs": [
    {
     "data": {
      "image/png": "[encoded data removed]",
      "text/plain": [
       "<Figure size 1080x648 with 1 Axes>"
      ]
     },
     "metadata": {
      "needs_background": "light"
     },
     "output_type": "display_data"
    }
   ],
   "source": [
    "plt.figure(figsize=(15,9))\n",
    "plt.bar(product['product'], product['quantity_ordered'])\n",
    "plt.title('Top selling products')\n",
    "plt.xlabel('Product')\n",
    "plt.ylabel('QTY Ordered')\n",
    "plt.xticks(rotation=45)\n",
    "plt.tight_layout()\n",
    "plt.show()"
   ]
  },
  {
   "cell_type": "code",
   "execution_count": 100,
   "id": "0c0844f2-d07d-4daa-ac6a-185e83973976",
   "metadata": {},
   "outputs": [
    {
     "data": {
      "text/html": [
       "<div>\n",
       "<style scoped>\n",
       "    .dataframe tbody tr th:only-of-type {\n",
       "        vertical-align: middle;\n",
       "    }\n",
       "\n",
       "    .dataframe tbody tr th {\n",
       "        vertical-align: top;\n",
       "    }\n",
       "\n",
       "    .dataframe thead th {\n",
       "        text-align: right;\n",
       "    }\n",
       "</style>\n",
       "<table border=\"1\" class=\"dataframe\">\n",
       "  <thead>\n",
       "    <tr style=\"text-align: right;\">\n",
       "      <th></th>\n",
       "      <th>product</th>\n",
       "      <th>quantity_ordered</th>\n",
       "    </tr>\n",
       "  </thead>\n",
       "  <tbody>\n",
       "    <tr>\n",
       "      <th>0</th>\n",
       "      <td>AAA Batteries (4-pack)</td>\n",
       "      <td>30986</td>\n",
       "    </tr>\n",
       "    <tr>\n",
       "      <th>1</th>\n",
       "      <td>AA Batteries (4-pack)</td>\n",
       "      <td>27615</td>\n",
       "    </tr>\n",
       "    <tr>\n",
       "      <th>2</th>\n",
       "      <td>USB-C Charging Cable</td>\n",
       "      <td>23931</td>\n",
       "    </tr>\n",
       "    <tr>\n",
       "      <th>3</th>\n",
       "      <td>Lightning Charging Cable</td>\n",
       "      <td>23169</td>\n",
       "    </tr>\n",
       "    <tr>\n",
       "      <th>4</th>\n",
       "      <td>Wired Headphones</td>\n",
       "      <td>20524</td>\n",
       "    </tr>\n",
       "    <tr>\n",
       "      <th>5</th>\n",
       "      <td>Apple Airpods Headphones</td>\n",
       "      <td>15637</td>\n",
       "    </tr>\n",
       "    <tr>\n",
       "      <th>6</th>\n",
       "      <td>Bose SoundSport Headphones</td>\n",
       "      <td>13430</td>\n",
       "    </tr>\n",
       "    <tr>\n",
       "      <th>7</th>\n",
       "      <td>27in FHD Monitor</td>\n",
       "      <td>7541</td>\n",
       "    </tr>\n",
       "    <tr>\n",
       "      <th>8</th>\n",
       "      <td>27in 4K Gaming Monitor</td>\n",
       "      <td>6239</td>\n",
       "    </tr>\n",
       "    <tr>\n",
       "      <th>9</th>\n",
       "      <td>34in Ultrawide Monitor</td>\n",
       "      <td>6192</td>\n",
       "    </tr>\n",
       "    <tr>\n",
       "      <th>10</th>\n",
       "      <td>Flatscreen TV</td>\n",
       "      <td>4813</td>\n",
       "    </tr>\n",
       "    <tr>\n",
       "      <th>11</th>\n",
       "      <td>20in Monitor</td>\n",
       "      <td>4126</td>\n",
       "    </tr>\n",
       "    <tr>\n",
       "      <th>12</th>\n",
       "      <td>Vareebadd Phone</td>\n",
       "      <td>2068</td>\n",
       "    </tr>\n",
       "  </tbody>\n",
       "</table>\n",
       "</div>"
      ],
      "text/plain": [
       "                       product  quantity_ordered\n",
       "0       AAA Batteries (4-pack)             30986\n",
       "1        AA Batteries (4-pack)             27615\n",
       "2         USB-C Charging Cable             23931\n",
       "3     Lightning Charging Cable             23169\n",
       "4             Wired Headphones             20524\n",
       "5     Apple Airpods Headphones             15637\n",
       "6   Bose SoundSport Headphones             13430\n",
       "7             27in FHD Monitor              7541\n",
       "8       27in 4K Gaming Monitor              6239\n",
       "9       34in Ultrawide Monitor              6192\n",
       "10               Flatscreen TV              4813\n",
       "11                20in Monitor              4126\n",
       "12             Vareebadd Phone              2068"
      ]
     },
     "execution_count": 100,
     "metadata": {},
     "output_type": "execute_result"
    }
   ],
   "source": [
    "data_inside = data[data['price_each'] < upper_limit]\n",
    "products = data_inside.groupby(['product'])['quantity_ordered'].sum().sort_values(ascending=False).reset_index()\n",
    "products"
   ]
  },
  {
   "cell_type": "code",
   "execution_count": 74,
   "id": "46e7c648-adc9-4138-8fe4-2badc1cd3323",
   "metadata": {},
   "outputs": [
    {
     "data": {
      "image/png": "[encoded data removed]",
      "text/plain": [
       "<Figure size 1080x648 with 1 Axes>"
      ]
     },
     "metadata": {
      "needs_background": "light"
     },
     "output_type": "display_data"
    }
   ],
   "source": [
    "plt.figure(figsize=(15,9))\n",
    "plt.bar(products['product'], products['quantity_ordered'])\n",
    "plt.title('Top selling products')\n",
    "plt.xlabel('Product')\n",
    "plt.ylabel('QTY Ordered')\n",
    "plt.xticks(rotation=45)\n",
    "plt.tight_layout()\n",
    "plt.show()"
   ]
  },
  {
   "cell_type": "code",
   "execution_count": null,
   "id": "04cb14a8-7ac2-48e0-95d3-6ddfe1daac72",
   "metadata": {},
   "outputs": [
    {
     "data": {
      "text/plain": [
       "array([2.99])"
      ]
     },
     "execution_count": 78,
     "metadata": {},
     "output_type": "execute_result"
    }
   ],
   "source": [
    "data[data['product']=='AAA Batteries (4-pack)']['price_each'].unique()"
   ]
  },
  {
   "cell_type": "code",
   "execution_count": 98,
   "id": "f4785dab-9a18-45c6-8b5d-f179bd4cb3bf",
   "metadata": {},
   "outputs": [
    {
     "data": {
      "text/html": [
       "<div>\n",
       "<style scoped>\n",
       "    .dataframe tbody tr th:only-of-type {\n",
       "        vertical-align: middle;\n",
       "    }\n",
       "\n",
       "    .dataframe tbody tr th {\n",
       "        vertical-align: top;\n",
       "    }\n",
       "\n",
       "    .dataframe thead th {\n",
       "        text-align: right;\n",
       "    }\n",
       "</style>\n",
       "<table border=\"1\" class=\"dataframe\">\n",
       "  <thead>\n",
       "    <tr style=\"text-align: right;\">\n",
       "      <th></th>\n",
       "      <th>order_id</th>\n",
       "      <th>product</th>\n",
       "      <th>quantity_ordered</th>\n",
       "      <th>price_each</th>\n",
       "      <th>order_date</th>\n",
       "      <th>purchase_address</th>\n",
       "      <th>sales</th>\n",
       "      <th>month</th>\n",
       "      <th>year</th>\n",
       "    </tr>\n",
       "  </thead>\n",
       "  <tbody>\n",
       "    <tr>\n",
       "      <th>8</th>\n",
       "      <td>176565</td>\n",
       "      <td>Macbook Pro Laptop</td>\n",
       "      <td>1</td>\n",
       "      <td>1700.0</td>\n",
       "      <td>2019-04-24 10:38:00</td>\n",
       "      <td>915 Willow St, San Francisco, CA 94016</td>\n",
       "      <td>1700.0</td>\n",
       "      <td>April</td>\n",
       "      <td>2019</td>\n",
       "    </tr>\n",
       "    <tr>\n",
       "      <th>84</th>\n",
       "      <td>176639</td>\n",
       "      <td>Macbook Pro Laptop</td>\n",
       "      <td>1</td>\n",
       "      <td>1700.0</td>\n",
       "      <td>2019-04-28 16:14:00</td>\n",
       "      <td>853 Cedar St, San Francisco, CA 94016</td>\n",
       "      <td>1700.0</td>\n",
       "      <td>April</td>\n",
       "      <td>2019</td>\n",
       "    </tr>\n",
       "    <tr>\n",
       "      <th>88</th>\n",
       "      <td>176643</td>\n",
       "      <td>Macbook Pro Laptop</td>\n",
       "      <td>1</td>\n",
       "      <td>1700.0</td>\n",
       "      <td>2019-04-27 21:32:00</td>\n",
       "      <td>373 Adams St, Boston, MA 02215</td>\n",
       "      <td>1700.0</td>\n",
       "      <td>April</td>\n",
       "      <td>2019</td>\n",
       "    </tr>\n",
       "    <tr>\n",
       "      <th>91</th>\n",
       "      <td>176646</td>\n",
       "      <td>Macbook Pro Laptop</td>\n",
       "      <td>1</td>\n",
       "      <td>1700.0</td>\n",
       "      <td>2019-04-22 07:14:00</td>\n",
       "      <td>657 Adams St, Portland, OR 97035</td>\n",
       "      <td>1700.0</td>\n",
       "      <td>April</td>\n",
       "      <td>2019</td>\n",
       "    </tr>\n",
       "    <tr>\n",
       "      <th>134</th>\n",
       "      <td>176687</td>\n",
       "      <td>Macbook Pro Laptop</td>\n",
       "      <td>1</td>\n",
       "      <td>1700.0</td>\n",
       "      <td>2019-04-30 10:26:00</td>\n",
       "      <td>121 Wilson St, Los Angeles, CA 90001</td>\n",
       "      <td>1700.0</td>\n",
       "      <td>April</td>\n",
       "      <td>2019</td>\n",
       "    </tr>\n",
       "    <tr>\n",
       "      <th>...</th>\n",
       "      <td>...</td>\n",
       "      <td>...</td>\n",
       "      <td>...</td>\n",
       "      <td>...</td>\n",
       "      <td>...</td>\n",
       "      <td>...</td>\n",
       "      <td>...</td>\n",
       "      <td>...</td>\n",
       "      <td>...</td>\n",
       "    </tr>\n",
       "    <tr>\n",
       "      <th>185357</th>\n",
       "      <td>259041</td>\n",
       "      <td>Macbook Pro Laptop</td>\n",
       "      <td>1</td>\n",
       "      <td>1700.0</td>\n",
       "      <td>2019-09-13 23:14:00</td>\n",
       "      <td>220 Sunset St, New York City, NY 10001</td>\n",
       "      <td>1700.0</td>\n",
       "      <td>September</td>\n",
       "      <td>2019</td>\n",
       "    </tr>\n",
       "    <tr>\n",
       "      <th>185477</th>\n",
       "      <td>259157</td>\n",
       "      <td>Macbook Pro Laptop</td>\n",
       "      <td>1</td>\n",
       "      <td>1700.0</td>\n",
       "      <td>2019-09-12 05:01:00</td>\n",
       "      <td>326 Forest St, Seattle, WA 98101</td>\n",
       "      <td>1700.0</td>\n",
       "      <td>September</td>\n",
       "      <td>2019</td>\n",
       "    </tr>\n",
       "    <tr>\n",
       "      <th>185624</th>\n",
       "      <td>259299</td>\n",
       "      <td>Macbook Pro Laptop</td>\n",
       "      <td>1</td>\n",
       "      <td>1700.0</td>\n",
       "      <td>2019-09-30 23:59:00</td>\n",
       "      <td>240 Chestnut St, Los Angeles, CA 90001</td>\n",
       "      <td>1700.0</td>\n",
       "      <td>September</td>\n",
       "      <td>2019</td>\n",
       "    </tr>\n",
       "    <tr>\n",
       "      <th>185634</th>\n",
       "      <td>259308</td>\n",
       "      <td>Macbook Pro Laptop</td>\n",
       "      <td>1</td>\n",
       "      <td>1700.0</td>\n",
       "      <td>2019-09-26 19:16:00</td>\n",
       "      <td>912 8th St, Boston, MA 02215</td>\n",
       "      <td>1700.0</td>\n",
       "      <td>September</td>\n",
       "      <td>2019</td>\n",
       "    </tr>\n",
       "    <tr>\n",
       "      <th>185651</th>\n",
       "      <td>259324</td>\n",
       "      <td>Macbook Pro Laptop</td>\n",
       "      <td>1</td>\n",
       "      <td>1700.0</td>\n",
       "      <td>2019-09-29 13:37:00</td>\n",
       "      <td>926 North St, San Francisco, CA 94016</td>\n",
       "      <td>1700.0</td>\n",
       "      <td>September</td>\n",
       "      <td>2019</td>\n",
       "    </tr>\n",
       "  </tbody>\n",
       "</table>\n",
       "<p>4721 rows × 9 columns</p>\n",
       "</div>"
      ],
      "text/plain": [
       "        order_id             product  quantity_ordered  price_each   \n",
       "8         176565  Macbook Pro Laptop                 1      1700.0  \\\n",
       "84        176639  Macbook Pro Laptop                 1      1700.0   \n",
       "88        176643  Macbook Pro Laptop                 1      1700.0   \n",
       "91        176646  Macbook Pro Laptop                 1      1700.0   \n",
       "134       176687  Macbook Pro Laptop                 1      1700.0   \n",
       "...          ...                 ...               ...         ...   \n",
       "185357    259041  Macbook Pro Laptop                 1      1700.0   \n",
       "185477    259157  Macbook Pro Laptop                 1      1700.0   \n",
       "185624    259299  Macbook Pro Laptop                 1      1700.0   \n",
       "185634    259308  Macbook Pro Laptop                 1      1700.0   \n",
       "185651    259324  Macbook Pro Laptop                 1      1700.0   \n",
       "\n",
       "                order_date                        purchase_address   sales   \n",
       "8      2019-04-24 10:38:00  915 Willow St, San Francisco, CA 94016  1700.0  \\\n",
       "84     2019-04-28 16:14:00   853 Cedar St, San Francisco, CA 94016  1700.0   \n",
       "88     2019-04-27 21:32:00          373 Adams St, Boston, MA 02215  1700.0   \n",
       "91     2019-04-22 07:14:00        657 Adams St, Portland, OR 97035  1700.0   \n",
       "134    2019-04-30 10:26:00    121 Wilson St, Los Angeles, CA 90001  1700.0   \n",
       "...                    ...                                     ...     ...   \n",
       "185357 2019-09-13 23:14:00  220 Sunset St, New York City, NY 10001  1700.0   \n",
       "185477 2019-09-12 05:01:00        326 Forest St, Seattle, WA 98101  1700.0   \n",
       "185624 2019-09-30 23:59:00  240 Chestnut St, Los Angeles, CA 90001  1700.0   \n",
       "185634 2019-09-26 19:16:00            912 8th St, Boston, MA 02215  1700.0   \n",
       "185651 2019-09-29 13:37:00   926 North St, San Francisco, CA 94016  1700.0   \n",
       "\n",
       "            month  year  \n",
       "8           April  2019  \n",
       "84          April  2019  \n",
       "88          April  2019  \n",
       "91          April  2019  \n",
       "134         April  2019  \n",
       "...           ...   ...  \n",
       "185357  September  2019  \n",
       "185477  September  2019  \n",
       "185624  September  2019  \n",
       "185634  September  2019  \n",
       "185651  September  2019  \n",
       "\n",
       "[4721 rows x 9 columns]"
      ]
     },
     "execution_count": 98,
     "metadata": {},
     "output_type": "execute_result"
    }
   ],
   "source": [
    "data[data['price_each'] == 1700]"
   ]
  },
  {
   "cell_type": "markdown",
   "id": "a909cad5-24a3-481d-8003-dbae94aa7cbd",
   "metadata": {},
   "source": [
    "## Conclusion\n",
    "\n",
    "The distribution skewed to the right because the product becomes expensive. It has no outliers. Inside the distribution the top most sold product is `AAA Batteries (4-pack)` with a `$30,986` order, and in outside the distribution the most sold product is `iPhone` with a `$6,847` order. The most distributed or sold product is the one who has a cheaper price."
   ]
  },
  {
   "cell_type": "code",
   "execution_count": null,
   "id": "88c1fd0e-a906-44f8-8a6a-31a4c5797525",
   "metadata": {},
   "outputs": [],
   "source": []
  },
  {
   "cell_type": "code",
   "execution_count": null,
   "id": "4f744520-8e0b-4b08-86ee-46f87d724469",
   "metadata": {},
   "outputs": [],
   "source": []
  },
  {
   "cell_type": "code",
   "execution_count": null,
   "id": "7b241317-d4d2-489e-ad7b-b1029fba4c23",
   "metadata": {},
   "outputs": [],
   "source": []
  },
  {
   "cell_type": "code",
   "execution_count": null,
   "id": "ab7731a9-d7ba-4984-974f-1aeaa89d4758",
   "metadata": {},
   "outputs": [],
   "source": []
  },
  {
   "cell_type": "code",
   "execution_count": null,
   "id": "791d2881-af5b-4c23-9452-00739ca0c2c7",
   "metadata": {},
   "outputs": [],
   "source": []
  },
  {
   "cell_type": "code",
   "execution_count": null,
   "id": "b4ce9543-fa37-4318-9608-96c020b1d1b2",
   "metadata": {},
   "outputs": [],
   "source": []
  },
  {
   "cell_type": "code",
   "execution_count": null,
   "id": "1757e421-c9be-4e29-99d3-1bcfc3ed3e67",
   "metadata": {},
   "outputs": [],
   "source": []
  },
  {
   "cell_type": "code",
   "execution_count": null,
   "id": "24037058-8a40-444f-a77d-49d6e191e310",
   "metadata": {},
   "outputs": [],
   "source": []
  },
  {
   "cell_type": "code",
   "execution_count": null,
   "id": "f2465d19-ed0b-45f0-bde7-497e0129b30b",
   "metadata": {},
   "outputs": [],
   "source": []
  },
  {
   "cell_type": "code",
   "execution_count": null,
   "id": "89c6ac60-6db6-4eee-8cf9-40dc2d536570",
   "metadata": {},
   "outputs": [],
   "source": []
  },
  {
   "cell_type": "code",
   "execution_count": null,
   "id": "9b0fd80f-37cb-4625-b38a-1734092335cc",
   "metadata": {},
   "outputs": [],
   "source": []
  },
  {
   "cell_type": "code",
   "execution_count": null,
   "id": "28d3a0c6-8d4c-480e-bab0-6cdb0e5d41f5",
   "metadata": {},
   "outputs": [],
   "source": []
  },
  {
   "cell_type": "code",
   "execution_count": null,
   "id": "442215c8-1112-41b4-9c83-2edb20c347c9",
   "metadata": {},
   "outputs": [],
   "source": []
  },
  {
   "cell_type": "code",
   "execution_count": null,
   "id": "6a6519cf-51fe-445c-b88f-3e8cca594b50",
   "metadata": {},
   "outputs": [],
   "source": []
  },
  {
   "cell_type": "code",
   "execution_count": null,
   "id": "ff8cb10b-3880-4308-9044-d161df9addcb",
   "metadata": {},
   "outputs": [],
   "source": []
  },
  {
   "cell_type": "code",
   "execution_count": null,
   "id": "bad727f1-632e-4a03-b8a5-5ef303ebdede",
   "metadata": {},
   "outputs": [],
   "source": []
  },
  {
   "cell_type": "code",
   "execution_count": null,
   "id": "5f5c18e6-d018-434c-ae8f-64ca0cd687b7",
   "metadata": {},
   "outputs": [],
   "source": []
  },
  {
   "cell_type": "code",
   "execution_count": null,
   "id": "8feffd32-7ddc-46db-9caf-092404c35897",
   "metadata": {},
   "outputs": [],
   "source": []
  },
  {
   "cell_type": "code",
   "execution_count": null,
   "id": "e35b6ccc-3a24-4cd7-897b-59f620e25c82",
   "metadata": {},
   "outputs": [],
   "source": []
  },
  {
   "cell_type": "code",
   "execution_count": null,
   "id": "081f9c7a-d206-48aa-9463-1187bcd631b5",
   "metadata": {},
   "outputs": [],
   "source": []
  },
  {
   "cell_type": "code",
   "execution_count": null,
   "id": "1689541c-0460-457f-b29e-ea0ae4c36398",
   "metadata": {},
   "outputs": [],
   "source": []
  },
  {
   "cell_type": "code",
   "execution_count": null,
   "id": "d5c31029-b770-439c-8201-2349eb12f50d",
   "metadata": {},
   "outputs": [],
   "source": []
  }
 ],
 "metadata": {
  "kernelspec": {
   "display_name": "Python 3 (ipykernel)",
   "language": "python",
   "name": "python3"
  },
  "language_info": {
   "codemirror_mode": {
    "name": "ipython",
    "version": 3
   },
   "file_extension": ".py",
   "mimetype": "text/x-python",
   "name": "python",
   "nbconvert_exporter": "python",
   "pygments_lexer": "ipython3",
   "version": "3.9.0"
  }
 },
 "nbformat": 4,
 "nbformat_minor": 5
}
